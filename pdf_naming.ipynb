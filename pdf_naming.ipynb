{
 "cells": [
  {
   "cell_type": "markdown",
   "metadata": {},
   "source": [
    "This program takes a folder of PDFs and creates a CSV file that can be passed into the actual script."
   ]
  },
  {
   "cell_type": "markdown",
   "metadata": {},
   "source": [
    "# Set up and Inputs"
   ]
  },
  {
   "cell_type": "code",
   "execution_count": 1,
   "metadata": {},
   "outputs": [],
   "source": [
    "# ipython extension to autoreload imported modules so that any changes will be up to date before running code in this notebook\n",
    "%load_ext autoreload \n",
    "%autoreload 2\n",
    "\n",
    "# import the necessary parts\n",
    "import os\n",
    "import csv\n",
    "\n",
    "#helper function\n",
    "def split_filename(filename):\n",
    "    # Split the filename into parts\n",
    "    parts = filename.split('_')\n",
    "    # Ensure we have enough parts\n",
    "    if len(parts) < 3:\n",
    "        return parts[0], ''  # Return the first part and empty string if not enough parts\n",
    "    # Join the remaining parts after the second underscore\n",
    "    rest_part = '_'.join(parts[2:]).replace('_', ' ')  # Replace _ with space\n",
    "    return parts[0], rest_part\n",
    "\n",
    "#create the pdf to csv function \n",
    "def list_pdfs_to_csv(folder_path, csv_file_path):\n",
    "    # List to hold processed file names\n",
    "    pdf_file_data = []\n",
    "\n",
    "    # Loop through the folder\n",
    "    for filename in os.listdir(folder_path):\n",
    "        if filename.endswith('.pdf'):\n",
    "            # Split the filename\n",
    "            first_part, rest_part = split_filename(filename[:-4])  # Exclude '.pdf'\n",
    "            pdf_file_data.append((first_part, rest_part))\n",
    "\n",
    "    # Write the PDF file names to a CSV file\n",
    "    with open(csv_file_path, mode='w', newline='') as csv_file:\n",
    "        writer = csv.writer(csv_file)\n",
    "        writer.writerow(['case_number', 'Document'])  # Header\n",
    "        writer.writerows(pdf_file_data)\n",
    "\n",
    "    print(f\"PDF file names written to {csv_file_path}\")"
   ]
  },
  {
   "cell_type": "code",
   "execution_count": 2,
   "metadata": {},
   "outputs": [],
   "source": [
    "# get where all the cases are currently being stored\n",
    "file_dir = \"/Users/elenamiller/Desktop/Fall 2024/Research_act/_2 modified/\""
   ]
  },
  {
   "cell_type": "code",
   "execution_count": 3,
   "metadata": {},
   "outputs": [
    {
     "name": "stdout",
     "output_type": "stream",
     "text": [
      "PDF file names written to /Users/elenamiller/Desktop/Fall 2024/Research_act/_2 modified/2_case_names.csv\n"
     ]
    }
   ],
   "source": [
    "# Now, use it!\n",
    "\n",
    "csv_file_path = '/Users/elenamiller/Desktop/Fall 2024/Research_act/_2 modified/2_case_names.csv'  # Replace with your desired CSV output path\n",
    "list_pdfs_to_csv(file_dir, csv_file_path)"
   ]
  }
 ],
 "metadata": {
  "kernelspec": {
   "display_name": "LADebtCollection",
   "language": "python",
   "name": "python3"
  },
  "language_info": {
   "codemirror_mode": {
    "name": "ipython",
    "version": 3
   },
   "file_extension": ".py",
   "mimetype": "text/x-python",
   "name": "python",
   "nbconvert_exporter": "python",
   "pygments_lexer": "ipython3",
   "version": "3.12.5"
  },
  "orig_nbformat": 4
 },
 "nbformat": 4,
 "nbformat_minor": 2
}
