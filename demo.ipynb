{
 "cells": [
  {
   "cell_type": "markdown",
   "metadata": {},
   "source": [
    "This notebook demonstrates how to call the scraping functions. However, outputs are removed before publishing because they contain sensitive information. If you have the legal documents locally, you will be able to run this notebook to get similar results. "
   ]
  },
  {
   "cell_type": "markdown",
   "metadata": {},
   "source": [
    "### setup and imports"
   ]
  },
  {
   "cell_type": "code",
   "execution_count": 1,
   "metadata": {},
   "outputs": [],
   "source": [
    "# ipython extension to autoreload imported modules so that any changes will be up to date before running code in this notebook\n",
    "%load_ext autoreload \n",
    "%autoreload 2"
   ]
  },
  {
   "cell_type": "code",
   "execution_count": 17,
   "metadata": {},
   "outputs": [
    {
     "name": "stderr",
     "output_type": "stream",
     "text": [
      "/Users/elenamiller/Desktop/Fall 2024/Research_act/debt_collection_docs/doc_scraping.py:400: SyntaxWarning: invalid escape sequence '\\s'\n",
      "  city_start_idx = city_texts.upper().find('CHY')\n",
      "/Users/elenamiller/Desktop/Fall 2024/Research_act/debt_collection_docs/doc_scraping.py:673: SyntaxWarning: invalid escape sequence '\\s'\n",
      "  if len(demand_amount_results) > 0:\n",
      "/Users/elenamiller/Desktop/Fall 2024/Research_act/debt_collection_docs/doc_scraping.py:674: SyntaxWarning: invalid escape sequence '\\s'\n",
      "  found_on = 'page 1 (as DEMAND AMOUNT)'\n",
      "/Users/elenamiller/Desktop/Fall 2024/Research_act/debt_collection_docs/doc_scraping.py:675: SyntaxWarning: invalid escape sequence '\\s'\n",
      "  if len(amount_demanded_results) > 0:\n",
      "/Users/elenamiller/Desktop/Fall 2024/Research_act/debt_collection_docs/doc_scraping.py:676: SyntaxWarning: invalid escape sequence '\\s'\n",
      "  found_on = 'page 1 (as AMOUNT DEMANDED)'\n",
      "/Users/elenamiller/Desktop/Fall 2024/Research_act/debt_collection_docs/doc_scraping.py:677: SyntaxWarning: invalid escape sequence '\\s'\n",
      "  if len(demand_is_for_results) > 0:\n",
      "/Users/elenamiller/Desktop/Fall 2024/Research_act/debt_collection_docs/doc_scraping.py:678: SyntaxWarning: invalid escape sequence '\\s'\n",
      "  found_on = 'page 1 (as Demand is for)'\n",
      "/Users/elenamiller/Desktop/Fall 2024/Research_act/debt_collection_docs/doc_scraping.py:679: SyntaxWarning: invalid escape sequence '\\s'\n",
      "  if len(limited_civil_results) > 0:\n",
      "/Users/elenamiller/Desktop/Fall 2024/Research_act/debt_collection_docs/doc_scraping.py:680: SyntaxWarning: invalid escape sequence '\\s'\n",
      "  found_on = 'page 1 (as LIMITED CIVIL)'\n"
     ]
    }
   ],
   "source": [
    "from doc_scraping import extract_all_addresses, extract_all_init_demands, address_autocrop"
   ]
  },
  {
   "cell_type": "markdown",
   "metadata": {},
   "source": [
    "### run code"
   ]
  },
  {
   "cell_type": "markdown",
   "metadata": {},
   "source": [
    "Replace the path variables with the paths on your own machine. `input_csv_path` should be to a csv file in which each row represents a separate legal file in a court case (e.g. civil case cover sheet, complaint). It should contain two columns of interest: \n",
    "* `case_number`, containing the case identifier\n",
    "* `Document`, containing the description of the document type (e.g. \"Civil Case Cover Sheet\", \"Complaint\")"
   ]
  },
  {
   "cell_type": "code",
   "execution_count": 18,
   "metadata": {},
   "outputs": [],
   "source": [
    "file_dir = \"/Users/elenamiller/Desktop/Fall 2024/Research_act/_2 modified/\"\n",
    "input_csv_path = \"/Users/elenamiller/Desktop/Fall 2024/Research_act/_2 modified/2_case_names.csv\""
   ]
  },
  {
   "cell_type": "code",
   "execution_count": 19,
   "metadata": {},
   "outputs": [
    {
     "name": "stdout",
     "output_type": "stream",
     "text": [
      "1 : 19CHLC02249\n",
      "WARNING: No rectangles were found in the input image.\n",
      "could not find city box, testing different image rotations now\n",
      "city box detected successfully at 0.1 degree rotation\n",
      "WARNING: No rectangles were found in the input image.\n",
      "could not find 2 state/zip boxes, testing different image rotations now\n",
      "state/zip boxes detected successfully at -0.2 degree rotation\n",
      "the zip block should start with ZIP but could not find that word in: 2P CODE\n",
      "\n",
      "913811\n",
      "errors: 1/1\n",
      "\n",
      "2 : 19CHLC33862\n",
      "WARNING: No rectangles were found in the input image.\n",
      "could not find street address box, testing different image rotations now\n",
      "WARNING: No rectangles were found in the input image.\n",
      "WARNING: No rectangles were found in the input image.\n",
      "WARNING: No rectangles were found in the input image.\n",
      "WARNING: No rectangles were found in the input image.\n",
      "WARNING: No rectangles were found in the input image.\n",
      "WARNING: No rectangles were found in the input image.\n",
      "WARNING: No rectangles were found in the input image.\n",
      "box detected successfully at -0.4 degree rotation\n",
      "the zip block should start with ZIP but could not find that word in: \n",
      "errors: 2/2\n",
      "\n",
      "3 : 19CHLC33939\n",
      "WARNING: No rectangles were found in the input image.\n",
      "could not find street address box, testing different image rotations now\n",
      "WARNING: No rectangles were found in the input image.\n",
      "box detected successfully at -0.1 degree rotation\n",
      "could not find 2 state/zip boxes, testing different image rotations now\n",
      "WARNING: No rectangles were found in the input image.\n",
      "state/zip boxes detected successfully at 0.5 degree rotation\n",
      "the zip block should start with ZIP but could not find that word in: 91324\n",
      "errors: 3/3\n",
      "\n",
      "4 : 19CHLC43533\n",
      "WARNING: No rectangles were found in the input image.\n",
      "could not find street address box, testing different image rotations now\n",
      "box detected successfully at 0.1 degree rotation\n",
      "could not find 2 state/zip boxes, testing different image rotations now\n",
      "WARNING: No rectangles were found in the input image.\n",
      "WARNING: No rectangles were found in the input image.\n",
      "WARNING: No rectangles were found in the input image.\n",
      "WARNING: No rectangles were found in the input image.\n",
      "WARNING: No rectangles were found in the input image.\n",
      "state/zip boxes detected successfully at 0.8999999999999999 degree rotation\n",
      "extracted address\n",
      "street address:  1233 LUTH ST\n",
      "city:  SANTA MONICA\n",
      "state:  CA\n",
      "zipcode:  90404\n",
      "\n"
     ]
    }
   ],
   "source": [
    "extract_all_addresses(input_csv_path, file_dir, output_csv_path=\"_2 modified address.csv\")"
   ]
  },
  {
   "cell_type": "code",
   "execution_count": 47,
   "metadata": {},
   "outputs": [
    {
     "name": "stdout",
     "output_type": "stream",
     "text": [
      "1 : 17CHLC00140\n",
      "could not complaint for case 17CHLC00140\n",
      "errors: 1/1\n",
      "\n",
      "2 : 17CHLC01819\n",
      "could not complaint for case 17CHLC01819\n",
      "errors: 2/2\n",
      "\n",
      "3 : 17CHLC02012\n",
      "could not complaint for case 17CHLC02012\n",
      "errors: 3/3\n",
      "\n"
     ]
    }
   ],
   "source": [
    "extract_all_init_demands(\"_2 addresses.csv\", file_dir, output_csv_path=\"_2 example address and demands.csv\")"
   ]
  },
  {
   "cell_type": "code",
   "execution_count": null,
   "metadata": {},
   "outputs": [],
   "source": []
  }
 ],
 "metadata": {
  "kernelspec": {
   "display_name": "LADebtCollection",
   "language": "python",
   "name": "python3"
  },
  "language_info": {
   "codemirror_mode": {
    "name": "ipython",
    "version": 3
   },
   "file_extension": ".py",
   "mimetype": "text/x-python",
   "name": "python",
   "nbconvert_exporter": "python",
   "pygments_lexer": "ipython3",
   "version": "3.12.5"
  }
 },
 "nbformat": 4,
 "nbformat_minor": 2
}
